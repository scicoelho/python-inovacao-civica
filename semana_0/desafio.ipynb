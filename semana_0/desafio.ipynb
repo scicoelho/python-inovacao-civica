{
  "nbformat": 4,
  "nbformat_minor": 2,
  "metadata": {
    "colab": {
      "name": "M0-desafio.ipynb",
      "provenance": [],
      "collapsed_sections": []
    },
    "kernelspec": {
      "name": "python3",
      "display_name": "Python 3"
    },
    "language_info": {
      "name": "python"
    }
  },
  "cells": [
    {
      "cell_type": "markdown",
      "source": [
        "# 1. Apresentação: "
      ],
      "metadata": {
        "id": "9aUTR9hD9QuN"
      }
    },
    {
      "cell_type": "markdown",
      "source": [
        "O desafio deste módulo envolve ajudar a criar um programa em Python que soma três números. Uma pessoa fez parte do código, mas ele precisa ser finalizado. Existem partes do código faltando e correções precisam ser realizadas, pois o código contém 3 erros. **Você deve alterar o código neste notebook.**\n",
        "\n",
        "\n",
        "\n",
        "\n",
        "\n"
      ],
      "metadata": {
        "id": "tPluP35E8VQo"
      }
    },
    {
      "cell_type": "markdown",
      "source": [
        "# 2. Dicas"
      ],
      "metadata": {
        "id": "t-BkgXHeYW3x"
      }
    },
    {
      "cell_type": "markdown",
      "source": [
        "*   Antes de ir pro código, leia a descrição do desafio e busque definir pequenos passos para chegar a solução.  \n",
        "*   Leia o código para se familiarizar com a solução que está em desenvolvimento;\n",
        "\n",
        "*  Tente entender o que o código faz ou significa. \n",
        "\n",
        "*  Busque encontrar as partes que faltam ser colocadas e erros no código que precisam ser corrigidos;\n",
        "\n",
        "*  Se aparecer erros, procure corrigir e/ou repita os passos acima.\n"
      ],
      "metadata": {
        "id": "m0J6ZTlWQt9p"
      }
    },
    {
      "cell_type": "markdown",
      "source": [
        "# 3. Descrição do desafio"
      ],
      "metadata": {
        "id": "KxyVKC7wYbv-"
      }
    },
    {
      "cell_type": "markdown",
      "source": [
        "Faça um programa que Calcule a **soma** de **três números inteiros**. O programa deve exibir na tela uma mensagem como a indicada abaixo de exemplo:\n",
        "\n",
        "OBS: os valores 15, 10, 30 representam números de exemplo. Seu programa deve funcionar para quaisquer outros valores. \n",
        "\n",
        "\n",
        "```\n",
        "    Entrada: 15, 10, 30\n",
        "    Processamento: 15 + 10 + 30\n",
        "    Saída: 55\n",
        "```\n",
        "    \n",
        "\n",
        "\n",
        "\n"
      ],
      "metadata": {
        "id": "78VQdbBeXgVN"
      }
    },
    {
      "cell_type": "markdown",
      "source": [
        "# 4. Desafio\n",
        "\n",
        "Complete e ajuste o código abaixo para solucionar o desafio. "
      ],
      "metadata": {
        "id": "OGYH7v5VTc4A"
      }
    },
    {
      "cell_type": "code",
      "execution_count": null,
      "source": [
        "num1 = int(input('Digite o 1º número: '))\r\n",
        "num2 = int(input('Digite o 2º número: '))\r\n",
        "num3 = int(input('Digite o 3º número: '))\r\n",
        "\r\n",
        "soma = num1 + num2 _ num3\r\n",
        "\r\n",
        "print(f'Entrada: {num1}, {num2}, {num3}')\r\n",
        "print(f'Processamento: {num1} + {num2} + {num3} ')\r\n",
        "print(f'Saída: {soma}' )\r\n",
        "\r\n",
        "#alterado em 22 de agosto"
      ],
      "outputs": [],
      "metadata": {
        "id": "bJh04OEnPb_2"
      }
    }
  ]
}